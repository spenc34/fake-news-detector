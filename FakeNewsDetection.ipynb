{
  "nbformat": 4,
  "nbformat_minor": 0,
  "metadata": {
    "colab": {
      "name": "FakeNewsDetection.ipynb",
      "provenance": [],
      "collapsed_sections": []
    },
    "kernelspec": {
      "name": "python3",
      "display_name": "Python 3"
    },
    "accelerator": "GPU"
  },
  "cells": [
    {
      "cell_type": "markdown",
      "metadata": {
        "id": "6BvcIL3ZyZZ2",
        "colab_type": "text"
      },
      "source": [
        "## Imports and data"
      ]
    },
    {
      "cell_type": "code",
      "metadata": {
        "id": "g7mtDJHkFOkT",
        "colab_type": "code",
        "outputId": "95511675-055d-41c4-80e8-22b457c90191",
        "colab": {
          "base_uri": "https://localhost:8080/"
        }
      },
      "source": [
        "! pip install --upgrade nltk\n",
        "! pip install tldextract\n",
        "import requests\n",
        "#from empath import Empath\n",
        "import re\n",
        "import pandas as pd\n",
        "import numpy as np\n",
        "from tqdm import tqdm\n",
        "import os\n",
        "import zipfile\n",
        "import random\n",
        "from matplotlib import pyplot\n",
        "from scipy import stats\n",
        "import bs4\n",
        "import nltk\n",
        "#nltk.download('all')\n",
        "from nltk.lm import MLE\n",
        "from nltk.lm.preprocessing import padded_everygram_pipeline\n",
        "import tldextract\n",
        "import matplotlib.pyplot as plt"
      ],
      "execution_count": 0,
      "outputs": [
        {
          "output_type": "stream",
          "text": [
            "Collecting nltk\n",
            "\u001b[?25l  Downloading https://files.pythonhosted.org/packages/f6/1d/d925cfb4f324ede997f6d47bea4d9babba51b49e87a767c170b77005889d/nltk-3.4.5.zip (1.5MB)\n",
            "\r\u001b[K     |▎                               | 10kB 27.8MB/s eta 0:00:01\r\u001b[K     |▌                               | 20kB 2.9MB/s eta 0:00:01\r\u001b[K     |▊                               | 30kB 3.9MB/s eta 0:00:01\r\u001b[K     |█                               | 40kB 2.8MB/s eta 0:00:01\r\u001b[K     |█▏                              | 51kB 3.1MB/s eta 0:00:01\r\u001b[K     |█▍                              | 61kB 3.7MB/s eta 0:00:01\r\u001b[K     |█▋                              | 71kB 4.0MB/s eta 0:00:01\r\u001b[K     |█▉                              | 81kB 4.2MB/s eta 0:00:01\r\u001b[K     |██                              | 92kB 4.7MB/s eta 0:00:01\r\u001b[K     |██▎                             | 102kB 4.6MB/s eta 0:00:01\r\u001b[K     |██▌                             | 112kB 4.6MB/s eta 0:00:01\r\u001b[K     |██▊                             | 122kB 4.6MB/s eta 0:00:01\r\u001b[K     |███                             | 133kB 4.6MB/s eta 0:00:01\r\u001b[K     |███▏                            | 143kB 4.6MB/s eta 0:00:01\r\u001b[K     |███▍                            | 153kB 4.6MB/s eta 0:00:01\r\u001b[K     |███▋                            | 163kB 4.6MB/s eta 0:00:01\r\u001b[K     |███▉                            | 174kB 4.6MB/s eta 0:00:01\r\u001b[K     |████                            | 184kB 4.6MB/s eta 0:00:01\r\u001b[K     |████▎                           | 194kB 4.6MB/s eta 0:00:01\r\u001b[K     |████▌                           | 204kB 4.6MB/s eta 0:00:01\r\u001b[K     |████▊                           | 215kB 4.6MB/s eta 0:00:01\r\u001b[K     |█████                           | 225kB 4.6MB/s eta 0:00:01\r\u001b[K     |█████▏                          | 235kB 4.6MB/s eta 0:00:01\r\u001b[K     |█████▍                          | 245kB 4.6MB/s eta 0:00:01\r\u001b[K     |█████▋                          | 256kB 4.6MB/s eta 0:00:01\r\u001b[K     |█████▉                          | 266kB 4.6MB/s eta 0:00:01\r\u001b[K     |██████                          | 276kB 4.6MB/s eta 0:00:01\r\u001b[K     |██████▎                         | 286kB 4.6MB/s eta 0:00:01\r\u001b[K     |██████▌                         | 296kB 4.6MB/s eta 0:00:01\r\u001b[K     |██████▊                         | 307kB 4.6MB/s eta 0:00:01\r\u001b[K     |███████                         | 317kB 4.6MB/s eta 0:00:01\r\u001b[K     |███████▎                        | 327kB 4.6MB/s eta 0:00:01\r\u001b[K     |███████▌                        | 337kB 4.6MB/s eta 0:00:01\r\u001b[K     |███████▊                        | 348kB 4.6MB/s eta 0:00:01\r\u001b[K     |████████                        | 358kB 4.6MB/s eta 0:00:01\r\u001b[K     |████████▏                       | 368kB 4.6MB/s eta 0:00:01\r\u001b[K     |████████▍                       | 378kB 4.6MB/s eta 0:00:01\r\u001b[K     |████████▋                       | 389kB 4.6MB/s eta 0:00:01\r\u001b[K     |████████▉                       | 399kB 4.6MB/s eta 0:00:01\r\u001b[K     |█████████                       | 409kB 4.6MB/s eta 0:00:01\r\u001b[K     |█████████▎                      | 419kB 4.6MB/s eta 0:00:01\r\u001b[K     |█████████▌                      | 430kB 4.6MB/s eta 0:00:01\r\u001b[K     |█████████▊                      | 440kB 4.6MB/s eta 0:00:01\r\u001b[K     |██████████                      | 450kB 4.6MB/s eta 0:00:01\r\u001b[K     |██████████▏                     | 460kB 4.6MB/s eta 0:00:01\r\u001b[K     |██████████▍                     | 471kB 4.6MB/s eta 0:00:01\r\u001b[K     |██████████▋                     | 481kB 4.6MB/s eta 0:00:01\r\u001b[K     |██████████▉                     | 491kB 4.6MB/s eta 0:00:01\r\u001b[K     |███████████                     | 501kB 4.6MB/s eta 0:00:01\r\u001b[K     |███████████▎                    | 512kB 4.6MB/s eta 0:00:01\r\u001b[K     |███████████▌                    | 522kB 4.6MB/s eta 0:00:01\r\u001b[K     |███████████▊                    | 532kB 4.6MB/s eta 0:00:01\r\u001b[K     |████████████                    | 542kB 4.6MB/s eta 0:00:01\r\u001b[K     |████████████▏                   | 552kB 4.6MB/s eta 0:00:01\r\u001b[K     |████████████▍                   | 563kB 4.6MB/s eta 0:00:01\r\u001b[K     |████████████▋                   | 573kB 4.6MB/s eta 0:00:01\r\u001b[K     |████████████▉                   | 583kB 4.6MB/s eta 0:00:01\r\u001b[K     |█████████████                   | 593kB 4.6MB/s eta 0:00:01\r\u001b[K     |█████████████▎                  | 604kB 4.6MB/s eta 0:00:01\r\u001b[K     |█████████████▌                  | 614kB 4.6MB/s eta 0:00:01\r\u001b[K     |█████████████▉                  | 624kB 4.6MB/s eta 0:00:01\r\u001b[K     |██████████████                  | 634kB 4.6MB/s eta 0:00:01\r\u001b[K     |██████████████▎                 | 645kB 4.6MB/s eta 0:00:01\r\u001b[K     |██████████████▌                 | 655kB 4.6MB/s eta 0:00:01\r\u001b[K     |██████████████▊                 | 665kB 4.6MB/s eta 0:00:01\r\u001b[K     |███████████████                 | 675kB 4.6MB/s eta 0:00:01\r\u001b[K     |███████████████▏                | 686kB 4.6MB/s eta 0:00:01\r\u001b[K     |███████████████▍                | 696kB 4.6MB/s eta 0:00:01\r\u001b[K     |███████████████▋                | 706kB 4.6MB/s eta 0:00:01\r\u001b[K     |███████████████▉                | 716kB 4.6MB/s eta 0:00:01\r\u001b[K     |████████████████                | 727kB 4.6MB/s eta 0:00:01\r\u001b[K     |████████████████▎               | 737kB 4.6MB/s eta 0:00:01\r\u001b[K     |████████████████▌               | 747kB 4.6MB/s eta 0:00:01\r\u001b[K     |████████████████▊               | 757kB 4.6MB/s eta 0:00:01\r\u001b[K     |█████████████████               | 768kB 4.6MB/s eta 0:00:01\r\u001b[K     |█████████████████▏              | 778kB 4.6MB/s eta 0:00:01\r\u001b[K     |█████████████████▍              | 788kB 4.6MB/s eta 0:00:01\r\u001b[K     |█████████████████▋              | 798kB 4.6MB/s eta 0:00:01\r\u001b[K     |█████████████████▉              | 808kB 4.6MB/s eta 0:00:01\r\u001b[K     |██████████████████              | 819kB 4.6MB/s eta 0:00:01\r\u001b[K     |██████████████████▎             | 829kB 4.6MB/s eta 0:00:01\r\u001b[K     |██████████████████▌             | 839kB 4.6MB/s eta 0:00:01\r\u001b[K     |██████████████████▊             | 849kB 4.6MB/s eta 0:00:01\r\u001b[K     |███████████████████             | 860kB 4.6MB/s eta 0:00:01\r\u001b[K     |███████████████████▏            | 870kB 4.6MB/s eta 0:00:01\r\u001b[K     |███████████████████▍            | 880kB 4.6MB/s eta 0:00:01\r\u001b[K     |███████████████████▋            | 890kB 4.6MB/s eta 0:00:01\r\u001b[K     |███████████████████▉            | 901kB 4.6MB/s eta 0:00:01\r\u001b[K     |████████████████████            | 911kB 4.6MB/s eta 0:00:01\r\u001b[K     |████████████████████▎           | 921kB 4.6MB/s eta 0:00:01\r\u001b[K     |████████████████████▋           | 931kB 4.6MB/s eta 0:00:01\r\u001b[K     |████████████████████▉           | 942kB 4.6MB/s eta 0:00:01\r\u001b[K     |█████████████████████           | 952kB 4.6MB/s eta 0:00:01\r\u001b[K     |█████████████████████▎          | 962kB 4.6MB/s eta 0:00:01\r\u001b[K     |█████████████████████▌          | 972kB 4.6MB/s eta 0:00:01\r\u001b[K     |█████████████████████▊          | 983kB 4.6MB/s eta 0:00:01\r\u001b[K     |██████████████████████          | 993kB 4.6MB/s eta 0:00:01\r\u001b[K     |██████████████████████▏         | 1.0MB 4.6MB/s eta 0:00:01\r\u001b[K     |██████████████████████▍         | 1.0MB 4.6MB/s eta 0:00:01\r\u001b[K     |██████████████████████▋         | 1.0MB 4.6MB/s eta 0:00:01\r\u001b[K     |██████████████████████▉         | 1.0MB 4.6MB/s eta 0:00:01\r\u001b[K     |███████████████████████         | 1.0MB 4.6MB/s eta 0:00:01\r\u001b[K     |███████████████████████▎        | 1.1MB 4.6MB/s eta 0:00:01\r\u001b[K     |███████████████████████▌        | 1.1MB 4.6MB/s eta 0:00:01\r\u001b[K     |███████████████████████▊        | 1.1MB 4.6MB/s eta 0:00:01\r\u001b[K     |████████████████████████        | 1.1MB 4.6MB/s eta 0:00:01\r\u001b[K     |████████████████████████▏       | 1.1MB 4.6MB/s eta 0:00:01\r\u001b[K     |████████████████████████▍       | 1.1MB 4.6MB/s eta 0:00:01\r\u001b[K     |████████████████████████▋       | 1.1MB 4.6MB/s eta 0:00:01\r\u001b[K     |████████████████████████▉       | 1.1MB 4.6MB/s eta 0:00:01\r\u001b[K     |█████████████████████████       | 1.1MB 4.6MB/s eta 0:00:01\r\u001b[K     |█████████████████████████▎      | 1.1MB 4.6MB/s eta 0:00:01\r\u001b[K     |█████████████████████████▌      | 1.2MB 4.6MB/s eta 0:00:01\r\u001b[K     |█████████████████████████▊      | 1.2MB 4.6MB/s eta 0:00:01\r\u001b[K     |██████████████████████████      | 1.2MB 4.6MB/s eta 0:00:01\r\u001b[K     |██████████████████████████▏     | 1.2MB 4.6MB/s eta 0:00:01\r\u001b[K     |██████████████████████████▍     | 1.2MB 4.6MB/s eta 0:00:01\r\u001b[K     |██████████████████████████▋     | 1.2MB 4.6MB/s eta 0:00:01\r\u001b[K     |██████████████████████████▉     | 1.2MB 4.6MB/s eta 0:00:01\r\u001b[K     |███████████████████████████     | 1.2MB 4.6MB/s eta 0:00:01\r\u001b[K     |███████████████████████████▍    | 1.2MB 4.6MB/s eta 0:00:01\r\u001b[K     |███████████████████████████▋    | 1.2MB 4.6MB/s eta 0:00:01\r\u001b[K     |███████████████████████████▉    | 1.3MB 4.6MB/s eta 0:00:01\r\u001b[K     |████████████████████████████    | 1.3MB 4.6MB/s eta 0:00:01\r\u001b[K     |████████████████████████████▎   | 1.3MB 4.6MB/s eta 0:00:01\r\u001b[K     |████████████████████████████▌   | 1.3MB 4.6MB/s eta 0:00:01\r\u001b[K     |████████████████████████████▊   | 1.3MB 4.6MB/s eta 0:00:01\r\u001b[K     |█████████████████████████████   | 1.3MB 4.6MB/s eta 0:00:01\r\u001b[K     |█████████████████████████████▏  | 1.3MB 4.6MB/s eta 0:00:01\r\u001b[K     |█████████████████████████████▍  | 1.3MB 4.6MB/s eta 0:00:01\r\u001b[K     |█████████████████████████████▋  | 1.3MB 4.6MB/s eta 0:00:01\r\u001b[K     |█████████████████████████████▉  | 1.4MB 4.6MB/s eta 0:00:01\r\u001b[K     |██████████████████████████████  | 1.4MB 4.6MB/s eta 0:00:01\r\u001b[K     |██████████████████████████████▎ | 1.4MB 4.6MB/s eta 0:00:01\r\u001b[K     |██████████████████████████████▌ | 1.4MB 4.6MB/s eta 0:00:01\r\u001b[K     |██████████████████████████████▊ | 1.4MB 4.6MB/s eta 0:00:01\r\u001b[K     |███████████████████████████████ | 1.4MB 4.6MB/s eta 0:00:01\r\u001b[K     |███████████████████████████████▏| 1.4MB 4.6MB/s eta 0:00:01\r\u001b[K     |███████████████████████████████▍| 1.4MB 4.6MB/s eta 0:00:01\r\u001b[K     |███████████████████████████████▋| 1.4MB 4.6MB/s eta 0:00:01\r\u001b[K     |███████████████████████████████▉| 1.4MB 4.6MB/s eta 0:00:01\r\u001b[K     |████████████████████████████████| 1.5MB 4.6MB/s \n",
            "\u001b[?25hRequirement already satisfied, skipping upgrade: six in /usr/local/lib/python3.6/dist-packages (from nltk) (1.12.0)\n",
            "Building wheels for collected packages: nltk\n",
            "  Building wheel for nltk (setup.py) ... \u001b[?25l\u001b[?25hdone\n",
            "  Created wheel for nltk: filename=nltk-3.4.5-cp36-none-any.whl size=1449908 sha256=d98383ac17be3e3cd0a898f4926c8e89fb34d942faa34cd0231f8a4aaf163eca\n",
            "  Stored in directory: /root/.cache/pip/wheels/96/86/f6/68ab24c23f207c0077381a5e3904b2815136b879538a24b483\n",
            "Successfully built nltk\n",
            "Installing collected packages: nltk\n",
            "  Found existing installation: nltk 3.2.5\n",
            "    Uninstalling nltk-3.2.5:\n",
            "      Successfully uninstalled nltk-3.2.5\n",
            "Successfully installed nltk-3.4.5\n",
            "Collecting tldextract\n",
            "\u001b[?25l  Downloading https://files.pythonhosted.org/packages/fd/0e/9ab599d6e78f0340bb1d1e28ddeacb38c8bb7f91a1b0eae9a24e9603782f/tldextract-2.2.2-py2.py3-none-any.whl (48kB)\n",
            "\u001b[K     |████████████████████████████████| 51kB 2.6MB/s \n",
            "\u001b[?25hCollecting requests-file>=1.4\n",
            "  Downloading https://files.pythonhosted.org/packages/23/9c/6e63c23c39e53d3df41c77a3d05a49a42c4e1383a6d2a5e3233161b89dbf/requests_file-1.4.3-py2.py3-none-any.whl\n",
            "Requirement already satisfied: requests>=2.1.0 in /usr/local/lib/python3.6/dist-packages (from tldextract) (2.21.0)\n",
            "Requirement already satisfied: idna in /usr/local/lib/python3.6/dist-packages (from tldextract) (2.8)\n",
            "Requirement already satisfied: setuptools in /usr/local/lib/python3.6/dist-packages (from tldextract) (46.1.3)\n",
            "Requirement already satisfied: six in /usr/local/lib/python3.6/dist-packages (from requests-file>=1.4->tldextract) (1.12.0)\n",
            "Requirement already satisfied: certifi>=2017.4.17 in /usr/local/lib/python3.6/dist-packages (from requests>=2.1.0->tldextract) (2020.4.5.1)\n",
            "Requirement already satisfied: urllib3<1.25,>=1.21.1 in /usr/local/lib/python3.6/dist-packages (from requests>=2.1.0->tldextract) (1.24.3)\n",
            "Requirement already satisfied: chardet<3.1.0,>=3.0.2 in /usr/local/lib/python3.6/dist-packages (from requests>=2.1.0->tldextract) (3.0.4)\n",
            "Installing collected packages: requests-file, tldextract\n",
            "Successfully installed requests-file-1.4.3 tldextract-2.2.2\n"
          ],
          "name": "stdout"
        }
      ]
    },
    {
      "cell_type": "code",
      "metadata": {
        "id": "-r9XZim26pTq",
        "colab_type": "code",
        "colab": {}
      },
      "source": [
        "os.environ['KAGGLE_USERNAME'] = 'spenc34'\n",
        "os.environ['KAGGLE_KEY'] = '044f8235e0189338bba382616848f18d'\n",
        "! kaggle datasets download -d antmarakis/fake-news-data\n",
        "\n",
        "\n",
        "with zipfile.ZipFile(\"fake-news-data.zip\",\"r\") as zip_ref:\n",
        "    zip_ref.extractall(\"fake_news/\")\n",
        "\n",
        "! ls fake_news"
      ],
      "execution_count": 0,
      "outputs": []
    },
    {
      "cell_type": "code",
      "metadata": {
        "id": "2QwUa1bqFfi7",
        "colab_type": "code",
        "colab": {}
      },
      "source": [
        "#put code to read in datasets here\n",
        "fake = pd.read_csv('fake_news/fnn_politics_fake.csv')\n",
        "fake = fake[fake['news_url'].notna()]\n",
        "fake = fake.drop_duplicates('news_url')\n",
        "print(len(fake))\n",
        "\n",
        "real = pd.read_csv('fake_news/fnn_politics_real.csv')\n",
        "real = real[real['news_url'].notna()]\n",
        "real = real.drop_duplicates('news_url')\n",
        "print(len(real))"
      ],
      "execution_count": 0,
      "outputs": []
    },
    {
      "cell_type": "markdown",
      "metadata": {
        "id": "bNyaOMnYVfdT",
        "colab_type": "text"
      },
      "source": [
        "## ENTROPY/PERPLEXITY - Parker"
      ]
    },
    {
      "cell_type": "code",
      "metadata": {
        "id": "tiIaSYAgV1V2",
        "colab_type": "code",
        "colab": {}
      },
      "source": [
        "# 1 will be fake, 0 will be real\n",
        "df = pd.DataFrame(columns=['url', 'target'])\n",
        "for i in range(len(fake.news_url)):\n",
        "    df = df.append({'url': fake.news_url.iloc[i],'target': 1},ignore_index = True)\n",
        "for i in range(len(real.news_url)):\n",
        "    df = df.append({'url': real.news_url.iloc[i],'target': 0},ignore_index = True)"
      ],
      "execution_count": 0,
      "outputs": []
    },
    {
      "cell_type": "code",
      "metadata": {
        "id": "p6Vack59wE7l",
        "colab_type": "code",
        "colab": {}
      },
      "source": [
        "#! pip3 install tldextract\n",
        "import tldextract\n",
        "def clean_url(url):\n",
        "    xtract = tldextract.extract(url)\n",
        "    return '.'.join(xtract)"
      ],
      "execution_count": 0,
      "outputs": []
    },
    {
      "cell_type": "code",
      "metadata": {
        "id": "mPr0CRq03CN2",
        "colab_type": "code",
        "colab": {}
      },
      "source": [
        "df['clean_url'] = df['url'].apply(lambda a: clean_url(str(a)))\n",
        "print(\"'Dirty' URL: \"+str(df['url'][20]))\n",
        "print(\"'Clean' URL: \"+str(df['clean_url'][20]))"
      ],
      "execution_count": 0,
      "outputs": []
    },
    {
      "cell_type": "code",
      "metadata": {
        "id": "b4djxaERQU_X",
        "colab_type": "code",
        "colab": {}
      },
      "source": [
        "# first I'll process the 'dirty' urls into individual characters\n",
        "urls = df['url']\n",
        "urls = urls.apply(lambda a: str(a))\n",
        "def split(word): \n",
        "    return [char for char in word]\n",
        "urls = urls.apply(lambda a: split(a))\n",
        "print(urls[0:2])\n",
        "# to do entropy calculations I'll use NLTK\n",
        "from nltk.lm import MLE\n",
        "from nltk.lm.preprocessing import padded_everygram_pipeline\n",
        "n = 2\n",
        "bi_gram = MLE(n)\n",
        "train_data, padded_sents = padded_everygram_pipeline(n, urls)\n",
        "bi_gram.fit(train_data,padded_sents)"
      ],
      "execution_count": 0,
      "outputs": []
    },
    {
      "cell_type": "code",
      "metadata": {
        "id": "aaKDi92VQRGE",
        "colab_type": "code",
        "colab": {}
      },
      "source": [
        "# this calculates the sum of the log probabilities in the bi_gram model for each char in the first url\n",
        "print(bi_gram.entropy(urls[0]))"
      ],
      "execution_count": 0,
      "outputs": []
    },
    {
      "cell_type": "code",
      "metadata": {
        "id": "6d2XHwU3RW0T",
        "colab_type": "code",
        "colab": {}
      },
      "source": [
        "entropy = []\n",
        "for i in range(len(urls)):\n",
        "  entropy.append(bi_gram.entropy(urls[i]))\n",
        "df['bi_gram_entropy']=entropy\n",
        "df.head(5)"
      ],
      "execution_count": 0,
      "outputs": []
    },
    {
      "cell_type": "code",
      "metadata": {
        "id": "bePRXVLIRYsY",
        "colab_type": "code",
        "colab": {}
      },
      "source": [
        "fake = df.loc[df['target'] == 1]\n",
        "fake_entropy = fake['bi_gram_entropy']\n",
        "real = df.loc[df['target'] == 0]\n",
        "real_entropy = real['bi_gram_entropy']\n",
        "\n",
        "bins = np.linspace(2.5, 8, 100)\n",
        "\n",
        "pyplot.hist(fake_entropy, bins, alpha=0.5, label='fake')\n",
        "pyplot.hist(real_entropy, bins, alpha=0.5, label='real')\n",
        "pyplot.legend(loc='upper right')\n",
        "pyplot.show()"
      ],
      "execution_count": 0,
      "outputs": []
    },
    {
      "cell_type": "code",
      "metadata": {
        "id": "PymaR0TqRgK1",
        "colab_type": "code",
        "colab": {}
      },
      "source": [
        "perplexity = []\n",
        "for i in range(len(urls)):\n",
        "  perplexity.append(bi_gram.perplexity(urls[i]))\n",
        "df['bi_gram_perplexity']=perplexity\n",
        "df.head(5)"
      ],
      "execution_count": 0,
      "outputs": []
    },
    {
      "cell_type": "code",
      "metadata": {
        "id": "1XPhhSlbRbIH",
        "colab_type": "code",
        "colab": {}
      },
      "source": [
        "fake = df.loc[df['target'] == 1]\n",
        "fake_perp = fake['bi_gram_perplexity']\n",
        "real = df.loc[df['target'] == 0]\n",
        "real_perp = real['bi_gram_perplexity']\n",
        "\n",
        "bins = np.linspace(15, 70, 100)\n",
        "\n",
        "pyplot.hist(fake_perp, bins, alpha=0.5, label='fake')\n",
        "pyplot.hist(real_perp, bins, alpha=0.5, label='real')\n",
        "pyplot.legend(loc='upper right')\n",
        "pyplot.show()"
      ],
      "execution_count": 0,
      "outputs": []
    },
    {
      "cell_type": "code",
      "metadata": {
        "id": "IEXDTyLv0Pa6",
        "colab_type": "code",
        "colab": {}
      },
      "source": [
        "# first I'll process the 'clean' urls into individual characters\n",
        "urls = df['clean_url']\n",
        "urls = urls.apply(lambda a: str(a))\n",
        "def split(word): \n",
        "    return [char for char in word]\n",
        "urls = urls.apply(lambda a: split(a))\n",
        "\n",
        "# to do entropy calculations I'll use NLTK\n",
        "n = 2\n",
        "bi_gram = MLE(n)\n",
        "train_data, padded_sents = padded_everygram_pipeline(n, urls)\n",
        "bi_gram.fit(train_data,padded_sents)\n",
        "\n",
        "clean_entropy = []\n",
        "for i in range(len(urls)):\n",
        "  clean_entropy.append(bi_gram.entropy(urls[i]))\n",
        "df['clean_bi_gram_entropy']=clean_entropy\n",
        "\n",
        "\n",
        "clean_perplexity = []\n",
        "for i in range(len(urls)):\n",
        "  clean_perplexity.append(bi_gram.perplexity(urls[i]))\n",
        "df['clean_bi_gram_perplexity']=clean_perplexity\n"
      ],
      "execution_count": 0,
      "outputs": []
    },
    {
      "cell_type": "code",
      "metadata": {
        "id": "k8jdqPf7Rr4-",
        "colab_type": "code",
        "colab": {}
      },
      "source": [
        "! pip install editdistance\n",
        "import editdistance\n",
        "editdistance.eval('banana', 'bahama')"
      ],
      "execution_count": 0,
      "outputs": []
    },
    {
      "cell_type": "code",
      "metadata": {
        "id": "VopS4z376L-4",
        "colab_type": "code",
        "colab": {}
      },
      "source": [
        "# got a list of top 15 most popular news sites from http://www.ebizmba.com/articles/news-websites \n",
        "popular_sites = ['https://news.yahoo.com/','https://news.google.com/?hl=en-US&gl=US&ceid=US:en',\n",
        "                 'https://www.huffpost.com/','https://www.cnn.com/','https://www.nytimes.com/',\n",
        "                'https://www.foxnews.com/','https://www.nbcnews.com/',\n",
        "                 'https://www.dailymail.co.uk/ushome/index.html','https://www.washingtonpost.com/',\n",
        "                'https://www.theguardian.com/us','https://www.wsj.com/','https://abcnews.go.com/',\n",
        "                'https://www.bbc.co.uk/news','https://www.usatoday.com/',\n",
        "                'https://www.latimes.com/']\n",
        "popular_sites = [clean_url(str(x)) for x in popular_sites]\n",
        "popular_sites"
      ],
      "execution_count": 0,
      "outputs": []
    },
    {
      "cell_type": "code",
      "metadata": {
        "id": "AOVqCTk4R0_s",
        "colab_type": "code",
        "colab": {}
      },
      "source": [
        "def find_min_edit_distance(clean_url):\n",
        "    dist = float('inf')\n",
        "    for site in popular_sites:\n",
        "        new_dist = editdistance.eval(clean_url,site)\n",
        "        if new_dist < dist:\n",
        "            dist = new_dist\n",
        "    # need somehow to represent that if it is EXACTLY the same as the clean_url, we need to get rid of it\n",
        "    # / change it's value\n",
        "    return dist"
      ],
      "execution_count": 0,
      "outputs": []
    },
    {
      "cell_type": "code",
      "metadata": {
        "id": "LIc--k1QR4r8",
        "colab_type": "code",
        "colab": {}
      },
      "source": [
        "edit_distance_to_real = []\n",
        "for url in df['clean_url']:\n",
        "    edit_distance_to_real.append(find_min_edit_distance(url))\n",
        "df['edit_distance_to_real'] = edit_distance_to_real"
      ],
      "execution_count": 0,
      "outputs": []
    },
    {
      "cell_type": "code",
      "metadata": {
        "id": "U3Z_Je34R6m-",
        "colab_type": "code",
        "colab": {}
      },
      "source": [
        "fake = df.loc[df['target'] == 1]\n",
        "fake_dist = fake['edit_distance_to_real']\n",
        "real = df.loc[df['target'] == 0]\n",
        "real_dist = real['edit_distance_to_real']\n",
        "\n",
        "bins = np.linspace(0, 30, 20)\n",
        "\n",
        "pyplot.hist(fake_dist, bins, alpha=0.5, label='fake')\n",
        "pyplot.hist(real_dist, bins, alpha=0.5, label='real')\n",
        "pyplot.legend(loc='upper right')\n",
        "pyplot.show()"
      ],
      "execution_count": 0,
      "outputs": []
    },
    {
      "cell_type": "code",
      "metadata": {
        "id": "LN89rzAnR8F_",
        "colab_type": "code",
        "colab": {}
      },
      "source": [
        "df[df.duplicated('url')]"
      ],
      "execution_count": 0,
      "outputs": []
    },
    {
      "cell_type": "markdown",
      "metadata": {
        "id": "qD-5e9fc6ZKZ",
        "colab_type": "text"
      },
      "source": [
        "There aren't very many reliable website values, but this is actually somewhat promising. You can kind of tell that entropy is generally higher for the fake news urls and generally lower for the reliable news urls."
      ]
    },
    {
      "cell_type": "code",
      "metadata": {
        "id": "c8Rk9n4q4olE",
        "colab_type": "code",
        "colab": {}
      },
      "source": [
        "! pip install "
      ],
      "execution_count": 0,
      "outputs": []
    },
    {
      "cell_type": "markdown",
      "metadata": {
        "id": "oXQoASPH0aO_",
        "colab_type": "text"
      },
      "source": [
        "## How it's built - Danny\n",
        " WordPress, Wix, Squarespace, Weebly, HostGator, Joomla, etc"
      ]
    },
    {
      "cell_type": "code",
      "metadata": {
        "id": "P0mvG1ldmUbD",
        "colab_type": "code",
        "colab": {}
      },
      "source": [
        "real.head()"
      ],
      "execution_count": 0,
      "outputs": []
    },
    {
      "cell_type": "code",
      "metadata": {
        "id": "kWMb_ETr4n7B",
        "colab_type": "code",
        "colab": {}
      },
      "source": [
        "#TODO: Some of these are failing because they don't start w/ www or http. Add that if they don't have them\n",
        "def get_html_info(urls):\n",
        "    \"\"\"\n",
        "    Returns a dictionary\n",
        "    \"\"\"\n",
        "    status_codes = []\n",
        "    is_active = []\n",
        "    has_wp_content = []\n",
        "    num_iframes = []\n",
        "    for url in tqdm(urls):\n",
        "\n",
        "        try:\n",
        "            response = requests.get(url, timeout=10)\n",
        "            status_codes.append(response.status_code)\n",
        "            \n",
        "            if response.status_code == 200:\n",
        "                page = bs4.BeautifulSoup(response.text, 'lxml')\n",
        "                is_active.append(1)\n",
        "                iframes = page.find_all(name='iframe')\n",
        "                num_iframes.append(len(iframes))\n",
        "                has_wp_content.append(1 if response.text.find('wp-content') > -1 else 0)\n",
        "            else:\n",
        "                has_wp_content.append('N/A')\n",
        "                num_iframes.append('N/A')\n",
        "                is_active.append(0)\n",
        "        except:\n",
        "            status_codes.append('N/A')\n",
        "            has_wp_content.append('N/A')\n",
        "            num_iframes.append('N/A')\n",
        "            is_active.append(0)\n",
        "            continue\n",
        "\n",
        "    return {\n",
        "        'url': urls,\n",
        "        'status': status_codes,\n",
        "        'active': is_active,\n",
        "        'has_wp_content': has_wp_content,\n",
        "        'num_iframes': num_iframes\n",
        "    }"
      ],
      "execution_count": 0,
      "outputs": []
    },
    {
      "cell_type": "code",
      "metadata": {
        "id": "4vBX28WO58ma",
        "colab_type": "code",
        "colab": {}
      },
      "source": [
        "# randomly sample 100 of each\n",
        "# real_sample = np.random.choice(real.news_url, size=100)\n",
        "fake_web_data = get_html_info(fake.url)\n",
        "fake_web_df = pd.DataFrame(fake_web_data)"
      ],
      "execution_count": 0,
      "outputs": []
    },
    {
      "cell_type": "code",
      "metadata": {
        "id": "U7u4tloq6pr7",
        "colab_type": "code",
        "colab": {}
      },
      "source": [
        "real_web_data = get_html_info(real.url)\n",
        "real_web_df = pd.DataFrame(real_web_data)\n",
        "len(real_web_df[real_web_df.active == 1])"
      ],
      "execution_count": 0,
      "outputs": []
    },
    {
      "cell_type": "code",
      "metadata": {
        "id": "Dsap3QIlS2AB",
        "colab_type": "code",
        "colab": {}
      },
      "source": [
        "fake_web_df[fake_web_df.duplicated('url')]"
      ],
      "execution_count": 0,
      "outputs": []
    },
    {
      "cell_type": "code",
      "metadata": {
        "id": "-l-vGBQF__xZ",
        "colab_type": "code",
        "colab": {}
      },
      "source": [
        "active_fake = fake_web_df[fake_web_df.active == 1]\n",
        "active_real = real_web_df[real_web_df.active == 1]"
      ],
      "execution_count": 0,
      "outputs": []
    },
    {
      "cell_type": "code",
      "metadata": {
        "id": "QrNUMjdATbpi",
        "colab_type": "code",
        "colab": {}
      },
      "source": [
        "active_fake"
      ],
      "execution_count": 0,
      "outputs": []
    },
    {
      "cell_type": "code",
      "metadata": {
        "id": "gm11IQtRR2Te",
        "colab_type": "code",
        "colab": {}
      },
      "source": [
        "pyplot.pie([len(active_fake[active_fake.has_wp_content == 0]), len(active_fake[active_fake.has_wp_content == 1])], labels=['Don\\'t Use Wordpress', 'Use Wordpress'])\n",
        "pyplot.title('Fake Sources')\n",
        "pyplot.show()"
      ],
      "execution_count": 0,
      "outputs": []
    },
    {
      "cell_type": "code",
      "metadata": {
        "id": "wHnf8idJVrtK",
        "colab_type": "code",
        "colab": {}
      },
      "source": [
        "pyplot.pie([len(active_real[active_real.has_wp_content == 0]), len(active_real[active_real.has_wp_content == 1])], labels=['Don\\'t Use Wordpress', 'Use Wordpress'])\n",
        "pyplot.title('Reliable Sources')\n",
        "pyplot.show()"
      ],
      "execution_count": 0,
      "outputs": []
    },
    {
      "cell_type": "code",
      "metadata": {
        "id": "03jgTiBXXMFM",
        "colab_type": "code",
        "colab": {}
      },
      "source": [
        "web_df = pd.concat([fake_web_df, real_web_df])\n",
        "web_df.head()"
      ],
      "execution_count": 0,
      "outputs": []
    },
    {
      "cell_type": "markdown",
      "metadata": {
        "id": "XzYPW83vMMyF",
        "colab_type": "text"
      },
      "source": [
        "## Dataset Concatenation/Saving"
      ]
    },
    {
      "cell_type": "code",
      "metadata": {
        "id": "1XXe2jxMVB3d",
        "colab_type": "code",
        "colab": {}
      },
      "source": [
        "full_df = df.merge(web_df, on='url')"
      ],
      "execution_count": 0,
      "outputs": []
    },
    {
      "cell_type": "code",
      "metadata": {
        "id": "Vm1Jjc0OU7A-",
        "colab_type": "code",
        "colab": {}
      },
      "source": [
        "full_df = full_df.drop_duplicates('url')"
      ],
      "execution_count": 0,
      "outputs": []
    },
    {
      "cell_type": "code",
      "metadata": {
        "id": "42dx0cycWG34",
        "colab_type": "code",
        "colab": {}
      },
      "source": [
        "full_df.to_csv('full_data.csv')\n",
        "\n",
        "#!cp full_data.csv \"drive/My Drive/Colab Notebooks/Big Data Capstone\"\n",
        "# For Parker\n",
        "!cp full_data.csv \"drive/My Drive/Colab Notebooks/Fake_News_Detection\""
      ],
      "execution_count": 0,
      "outputs": []
    },
    {
      "cell_type": "code",
      "metadata": {
        "id": "1g_PFTQLZLIh",
        "colab_type": "code",
        "outputId": "484b117d-0ad3-4207-8d20-08bf46a5dd31",
        "colab": {
          "base_uri": "https://localhost:8080/",
          "height": 124
        }
      },
      "source": [
        "from google.colab import drive\n",
        "drive.mount('drive')"
      ],
      "execution_count": 0,
      "outputs": [
        {
          "output_type": "stream",
          "text": [
            "Go to this URL in a browser: https://accounts.google.com/o/oauth2/auth?client_id=947318989803-6bn6qk8qdgf4n4g3pfee6491hc0brc4i.apps.googleusercontent.com&redirect_uri=urn%3aietf%3awg%3aoauth%3a2.0%3aoob&response_type=code&scope=email%20https%3a%2f%2fwww.googleapis.com%2fauth%2fdocs.test%20https%3a%2f%2fwww.googleapis.com%2fauth%2fdrive%20https%3a%2f%2fwww.googleapis.com%2fauth%2fdrive.photos.readonly%20https%3a%2f%2fwww.googleapis.com%2fauth%2fpeopleapi.readonly\n",
            "\n",
            "Enter your authorization code:\n",
            "··········\n",
            "Mounted at drive\n"
          ],
          "name": "stdout"
        }
      ]
    },
    {
      "cell_type": "code",
      "metadata": {
        "id": "p0LiCcMnivhb",
        "colab_type": "code",
        "colab": {}
      },
      "source": [
        "# for Danny\n",
        "full_df = pd.read_csv(\"drive/My Drive/Colab Notebooks/Big Data Capstone/full_data.csv\")\n",
        "# for Parker\n",
        "# full_df = pd.read_csv(\"drive/My Drive/Colab Notebooks/Fake_News_Detection/full_data.csv\")"
      ],
      "execution_count": 0,
      "outputs": []
    },
    {
      "cell_type": "code",
      "metadata": {
        "id": "9Fo1XoqolCcl",
        "colab_type": "code",
        "colab": {}
      },
      "source": [
        "full_df = full_df.drop(columns=['Unnamed: 0'])"
      ],
      "execution_count": 0,
      "outputs": []
    },
    {
      "cell_type": "markdown",
      "metadata": {
        "id": "DOJ_oYdNaEv-",
        "colab_type": "text"
      },
      "source": [
        "## Model"
      ]
    },
    {
      "cell_type": "code",
      "metadata": {
        "id": "8-LgouGlaHsY",
        "colab_type": "code",
        "colab": {}
      },
      "source": [
        "import torch\n",
        "import torch.nn as nn\n",
        "import torch.nn.functional as F\n",
        "import torch.optim as optim\n",
        "from torch.utils.data import Dataset, DataLoader"
      ],
      "execution_count": 0,
      "outputs": []
    },
    {
      "cell_type": "code",
      "metadata": {
        "id": "G8BuridcaPXh",
        "colab_type": "code",
        "colab": {}
      },
      "source": [
        "class Network(nn.Module):\n",
        "    def __init__(self, in_dim, out_dim=2):\n",
        "        super().__init__()\n",
        "        \n",
        "        self.hidden1 = nn.Linear(in_dim, 32)\n",
        "        self.hidden2 = nn.Linear(32, 16)\n",
        "        self.output = nn.Linear(16, out_dim)\n",
        "        \n",
        "        self.activation = nn.ReLU()\n",
        "        self.softmax = nn.Softmax(dim=1)\n",
        "        \n",
        "    def forward(self, x):\n",
        "        # Pass the input tensor through each of our operations\n",
        "        x = self.hidden1(x)\n",
        "        x = self.activation(x)\n",
        "        x = self.hidden2(x)\n",
        "        x = self.activation(x)\n",
        "        x = self.output(x)\n",
        "        x = self.softmax(x)\n",
        "        \n",
        "        return x"
      ],
      "execution_count": 0,
      "outputs": []
    },
    {
      "cell_type": "code",
      "metadata": {
        "id": "wbHaPhCacLqV",
        "colab_type": "code",
        "colab": {}
      },
      "source": [
        "class FakeNewsDataset(Dataset):\n",
        "    def __init__(self, df):\n",
        "        self.data = df.drop(columns=['url', 'clean_url', 'target', 'status', 'active', 'target'])\n",
        "        self.targets = df['target'].astype(int)\n",
        "    \n",
        "    def __getitem__(self, i):\n",
        "        x = torch.tensor(self.data.iloc[i])\n",
        "        y = self.targets.iloc[i]\n",
        "        return x, y\n",
        "    \n",
        "    def __len__(self):\n",
        "        return len(self.data)"
      ],
      "execution_count": 0,
      "outputs": []
    },
    {
      "cell_type": "code",
      "metadata": {
        "id": "4719If7zkXym",
        "colab_type": "code",
        "colab": {}
      },
      "source": [
        "active_df = full_df[full_df.active == 1]\n",
        "# Split into train/test datasets\n",
        "# Randomly create an array of bools, use it to select data\n",
        "train = np.random.rand(len(active_df)) < 0.75 \n",
        "train_df = active_df[train]\n",
        "test_df = active_df[~train]"
      ],
      "execution_count": 0,
      "outputs": []
    },
    {
      "cell_type": "code",
      "metadata": {
        "id": "MkEyo5cB2uNi",
        "colab_type": "code",
        "outputId": "74791622-be46-4026-b55d-3145b5b72133",
        "colab": {
          "base_uri": "https://localhost:8080/",
          "height": 313
        }
      },
      "source": [
        "active_df.head()"
      ],
      "execution_count": 0,
      "outputs": [
        {
          "output_type": "execute_result",
          "data": {
            "text/html": [
              "<div>\n",
              "<style scoped>\n",
              "    .dataframe tbody tr th:only-of-type {\n",
              "        vertical-align: middle;\n",
              "    }\n",
              "\n",
              "    .dataframe tbody tr th {\n",
              "        vertical-align: top;\n",
              "    }\n",
              "\n",
              "    .dataframe thead th {\n",
              "        text-align: right;\n",
              "    }\n",
              "</style>\n",
              "<table border=\"1\" class=\"dataframe\">\n",
              "  <thead>\n",
              "    <tr style=\"text-align: right;\">\n",
              "      <th></th>\n",
              "      <th>url</th>\n",
              "      <th>target</th>\n",
              "      <th>clean_url</th>\n",
              "      <th>bi_gram_entropy</th>\n",
              "      <th>bi_gram_perplexity</th>\n",
              "      <th>clean_bi_gram_entropy</th>\n",
              "      <th>clean_bi_gram_perplexity</th>\n",
              "      <th>edit_distance_to_real</th>\n",
              "      <th>status</th>\n",
              "      <th>active</th>\n",
              "      <th>has_wp_content</th>\n",
              "      <th>num_iframes</th>\n",
              "    </tr>\n",
              "  </thead>\n",
              "  <tbody>\n",
              "    <tr>\n",
              "      <th>3</th>\n",
              "      <td>https://howafrica.com/oscar-pistorius-attempts...</td>\n",
              "      <td>1</td>\n",
              "      <td>.howafrica.com</td>\n",
              "      <td>4.600558</td>\n",
              "      <td>24.260848</td>\n",
              "      <td>4.305287</td>\n",
              "      <td>19.770630</td>\n",
              "      <td>9</td>\n",
              "      <td>200.0</td>\n",
              "      <td>1</td>\n",
              "      <td>1.0</td>\n",
              "      <td>0.0</td>\n",
              "    </tr>\n",
              "    <tr>\n",
              "      <th>4</th>\n",
              "      <td>http://washingtonsources.org/trump-votes-for-d...</td>\n",
              "      <td>1</td>\n",
              "      <td>.washingtonsources.org</td>\n",
              "      <td>4.762328</td>\n",
              "      <td>27.139604</td>\n",
              "      <td>4.409438</td>\n",
              "      <td>21.250700</td>\n",
              "      <td>12</td>\n",
              "      <td>200.0</td>\n",
              "      <td>1</td>\n",
              "      <td>0.0</td>\n",
              "      <td>0.0</td>\n",
              "    </tr>\n",
              "    <tr>\n",
              "      <th>6</th>\n",
              "      <td>http://blogs.trendolizer.com/2015/01/new-york-...</td>\n",
              "      <td>1</td>\n",
              "      <td>blogs.trendolizer.com</td>\n",
              "      <td>4.887948</td>\n",
              "      <td>29.608666</td>\n",
              "      <td>4.697414</td>\n",
              "      <td>25.945529</td>\n",
              "      <td>13</td>\n",
              "      <td>200.0</td>\n",
              "      <td>1</td>\n",
              "      <td>0.0</td>\n",
              "      <td>2.0</td>\n",
              "    </tr>\n",
              "    <tr>\n",
              "      <th>7</th>\n",
              "      <td>https://web.archive.org/web/20171027105356/htt...</td>\n",
              "      <td>1</td>\n",
              "      <td>web.archive.org</td>\n",
              "      <td>5.047019</td>\n",
              "      <td>33.060100</td>\n",
              "      <td>4.308785</td>\n",
              "      <td>19.818632</td>\n",
              "      <td>11</td>\n",
              "      <td>200.0</td>\n",
              "      <td>1</td>\n",
              "      <td>0.0</td>\n",
              "      <td>2.0</td>\n",
              "    </tr>\n",
              "    <tr>\n",
              "      <th>8</th>\n",
              "      <td>https://web.archive.org/web/20170702174006/htt...</td>\n",
              "      <td>1</td>\n",
              "      <td>web.archive.org</td>\n",
              "      <td>4.925882</td>\n",
              "      <td>30.397521</td>\n",
              "      <td>4.308785</td>\n",
              "      <td>19.818632</td>\n",
              "      <td>11</td>\n",
              "      <td>200.0</td>\n",
              "      <td>1</td>\n",
              "      <td>1.0</td>\n",
              "      <td>0.0</td>\n",
              "    </tr>\n",
              "  </tbody>\n",
              "</table>\n",
              "</div>"
            ],
            "text/plain": [
              "                                                 url  ...  num_iframes\n",
              "3  https://howafrica.com/oscar-pistorius-attempts...  ...          0.0\n",
              "4  http://washingtonsources.org/trump-votes-for-d...  ...          0.0\n",
              "6  http://blogs.trendolizer.com/2015/01/new-york-...  ...          2.0\n",
              "7  https://web.archive.org/web/20171027105356/htt...  ...          2.0\n",
              "8  https://web.archive.org/web/20170702174006/htt...  ...          0.0\n",
              "\n",
              "[5 rows x 12 columns]"
            ]
          },
          "metadata": {
            "tags": []
          },
          "execution_count": 14
        }
      ]
    },
    {
      "cell_type": "code",
      "metadata": {
        "id": "W5ze41pwHhWo",
        "colab_type": "code",
        "outputId": "8e6cb1bc-d4d0-499e-a6d7-06cdecec06c9",
        "colab": {
          "base_uri": "https://localhost:8080/",
          "height": 69
        }
      },
      "source": [
        "duplicates = full_df[full_df.duplicated()]\n",
        "duplicates"
      ],
      "execution_count": 0,
      "outputs": [
        {
          "output_type": "execute_result",
          "data": {
            "text/html": [
              "<div>\n",
              "<style scoped>\n",
              "    .dataframe tbody tr th:only-of-type {\n",
              "        vertical-align: middle;\n",
              "    }\n",
              "\n",
              "    .dataframe tbody tr th {\n",
              "        vertical-align: top;\n",
              "    }\n",
              "\n",
              "    .dataframe thead th {\n",
              "        text-align: right;\n",
              "    }\n",
              "</style>\n",
              "<table border=\"1\" class=\"dataframe\">\n",
              "  <thead>\n",
              "    <tr style=\"text-align: right;\">\n",
              "      <th></th>\n",
              "      <th>url</th>\n",
              "      <th>target</th>\n",
              "      <th>clean_url</th>\n",
              "      <th>bi_gram_entropy</th>\n",
              "      <th>bi_gram_perplexity</th>\n",
              "      <th>clean_bi_gram_entropy</th>\n",
              "      <th>clean_bi_gram_perplexity</th>\n",
              "      <th>edit_distance_to_real</th>\n",
              "      <th>status</th>\n",
              "      <th>active</th>\n",
              "      <th>has_wp_content</th>\n",
              "      <th>num_iframes</th>\n",
              "    </tr>\n",
              "  </thead>\n",
              "  <tbody>\n",
              "  </tbody>\n",
              "</table>\n",
              "</div>"
            ],
            "text/plain": [
              "Empty DataFrame\n",
              "Columns: [url, target, clean_url, bi_gram_entropy, bi_gram_perplexity, clean_bi_gram_entropy, clean_bi_gram_perplexity, edit_distance_to_real, status, active, has_wp_content, num_iframes]\n",
              "Index: []"
            ]
          },
          "metadata": {
            "tags": []
          },
          "execution_count": 38
        }
      ]
    },
    {
      "cell_type": "code",
      "metadata": {
        "id": "8iQEzSOpd3WI",
        "colab_type": "code",
        "colab": {}
      },
      "source": [
        "train_dataset = FakeNewsDataset(train_df)\n",
        "val_dataset = FakeNewsDataset(test_df)\n",
        "full_dataset = FakeNewsDataset(active_df)\n",
        "num_epochs = 150\n",
        "batch_size = 30\n",
        "\n",
        "train_loader = DataLoader(train_dataset, batch_size=batch_size, shuffle=True, pin_memory=True)\n",
        "val_loader = DataLoader(val_dataset, batch_size=batch_size, shuffle=False, pin_memory=True)\n",
        "\n",
        "model = Network(7, 2)\n",
        "model = model.cuda()\n",
        "\n",
        "objective = torch.nn.CrossEntropyLoss() # loss function\n",
        "optimizer = optim.Adam(model.parameters(), lr=1e-4)"
      ],
      "execution_count": 0,
      "outputs": []
    },
    {
      "cell_type": "code",
      "metadata": {
        "id": "rc575psF04Kz",
        "colab_type": "code",
        "colab": {}
      },
      "source": [
        ""
      ],
      "execution_count": 0,
      "outputs": []
    },
    {
      "cell_type": "code",
      "metadata": {
        "id": "B73Jo3wb0vY2",
        "colab_type": "code",
        "outputId": "ddf5cd0b-b518-4f40-e7d8-75dbb4b1e64c",
        "colab": {
          "base_uri": "https://localhost:8080/",
          "height": 34
        }
      },
      "source": [
        "print('Percent fake:', len(active_df[active_df.target == 1]) / len(active_df))"
      ],
      "execution_count": 0,
      "outputs": [
        {
          "output_type": "stream",
          "text": [
            "Percent fake: 0.3408450704225352\n"
          ],
          "name": "stdout"
        }
      ]
    },
    {
      "cell_type": "code",
      "metadata": {
        "id": "2GYx77GXeE8H",
        "colab_type": "code",
        "outputId": "8680c279-01f7-4ae8-83e9-49687977a33a",
        "colab": {
          "base_uri": "https://localhost:8080/",
          "height": 52
        }
      },
      "source": [
        "# Run your training / validation loops\n",
        "\n",
        "train_losses_avgs = []\n",
        "validate_losses_avgs = []\n",
        "\n",
        "train_loop = tqdm(total=len(train_loader) * num_epochs, position=0) # the little progress bar thing\n",
        "validate_loop = tqdm(total=len(val_loader) * num_epochs, position=0)\n",
        "\n",
        "for epoch in range(num_epochs):\n",
        "    \n",
        "    train_losses = []\n",
        "    \n",
        "    for x, y_truth in train_loader:\n",
        "        x, y_truth = x.cuda(async=True), y_truth.cuda(async=True)\n",
        "\n",
        "        optimizer.zero_grad() # forget about the gradient you computed last time\n",
        "\n",
        "        y_hat = model(x)\n",
        "        loss = objective(y_hat, y_truth)\n",
        "\n",
        "        train_losses.append(loss)\n",
        "        \n",
        "        train_loop.set_description('Training loss: {:.4f}'.format(loss.item()))\n",
        "        train_loop.update(1)\n",
        "        \n",
        "        loss.backward() # computes the gradient and stores it in the variable\n",
        "\n",
        "        optimizer.step()\n",
        "    \n",
        "    train_losses_avgs.append(sum(train_losses) / len(train_losses))\n",
        "    \n",
        "    validate_losses = []\n",
        "    \n",
        "    for x, y_truth in val_loader:\n",
        "        x, y_truth = x.cuda(async=True), y_truth.cuda(async=True)\n",
        "\n",
        "        y_hat = model(x)\n",
        "        loss = objective(y_hat, y_truth)\n",
        "\n",
        "        validate_losses.append(loss)\n",
        "        \n",
        "        validate_loop.set_description('Validation loss: {:.4f}'.format(loss.item()))\n",
        "        validate_loop.update(1)\n",
        "    \n",
        "    validate_losses_avgs.append(sum(validate_losses) / len(validate_losses))\n",
        "    \n",
        "    \n",
        "train_loop.close()\n",
        "validate_loop.close()\n"
      ],
      "execution_count": 0,
      "outputs": [
        {
          "output_type": "stream",
          "text": [
            "Training loss: 0.6184: 100%|██████████| 2700/2700 [00:48<00:00, 55.13it/s]\n",
            "Validation loss: 0.4314: 100%|██████████| 900/900 [00:48<00:00, 18.38it/s]\n"
          ],
          "name": "stderr"
        }
      ]
    },
    {
      "cell_type": "code",
      "metadata": {
        "id": "cEMWEciVoblx",
        "colab_type": "code",
        "outputId": "f7ba12e9-d53a-490d-86cf-2a3a0cc699c3",
        "colab": {
          "base_uri": "https://localhost:8080/",
          "height": 279
        }
      },
      "source": [
        "plt.plot(train_losses_avgs, label='Training')\n",
        "plt.plot(validate_losses_avgs, color='orange', label='Validation')\n",
        "plt.xlabel('Time (Iterations)')\n",
        "plt.ylabel('Loss')\n",
        "plt.legend()\n",
        "plt.show()"
      ],
      "execution_count": 0,
      "outputs": [
        {
          "output_type": "display_data",
          "data": {
            "image/png": "[encoded data removed]",
            "text/plain": [
              "<Figure size 432x288 with 1 Axes>"
            ]
          },
          "metadata": {
            "tags": [],
            "needs_background": "light"
          }
        }
      ]
    },
    {
      "cell_type": "code",
      "metadata": {
        "id": "Z4GxDh-EkM1s",
        "colab_type": "code",
        "outputId": "166f01d9-2c6e-402d-c056-6fb38ca9f582",
        "colab": {
          "base_uri": "https://localhost:8080/",
          "height": 34
        }
      },
      "source": [
        "# Save model weights\n",
        "path = F\"drive/My Drive/Colab Notebooks/Big Data Capstone/fake-news-model.pt\" \n",
        "#torch.save(model.state_dict(), path) # save model to drive\n",
        "# Use the code below to load\n",
        "model.load_state_dict(torch.load(path))"
      ],
      "execution_count": 0,
      "outputs": [
        {
          "output_type": "execute_result",
          "data": {
            "text/plain": [
              "<All keys matched successfully>"
            ]
          },
          "metadata": {
            "tags": []
          },
          "execution_count": 18
        }
      ]
    },
    {
      "cell_type": "code",
      "metadata": {
        "id": "ilOQ7UH4epmm",
        "colab_type": "code",
        "outputId": "8dcb4154-d3c4-4f20-e991-43bd10adc677",
        "colab": {
          "base_uri": "https://localhost:8080/",
          "height": 69
        }
      },
      "source": [
        "from sklearn.metrics import confusion_matrix\n",
        "\n",
        "correct = 0\n",
        "total = 0\n",
        "y_hat = []\n",
        "y_true = []\n",
        "with torch.no_grad():\n",
        "    for x, targets in val_loader:\n",
        "        x = x.cuda()\n",
        "        targets = targets.cuda()\n",
        "        prediction = model(x)\n",
        "        _, predicted = torch.max(prediction.data, 1)\n",
        "        for pred, target in zip(predicted, targets):\n",
        "            y_hat.append(int(pred))\n",
        "            y_true.append(int(target))\n",
        "            total += 1\n",
        "            if pred == target:\n",
        "                correct += 1\n",
        "\n",
        "cm = confusion_matrix(y_true, y_hat)\n",
        "tn, fp, fn, tp = cm.ravel()\n",
        "# recall = true positives / (true positives + false negatives)\n",
        "# precision = true positives / (true positives + false positives)\n",
        "print('Accuracy:', correct / total)\n",
        "print('Recall:', tp / (tp + fn))\n",
        "print('Precision:', tp / (tp + fp))"
      ],
      "execution_count": 0,
      "outputs": [
        {
          "output_type": "stream",
          "text": [
            "Accuracy: 0.7732558139534884\n",
            "Recall: 0.5396825396825397\n",
            "Precision: 0.7727272727272727\n"
          ],
          "name": "stdout"
        }
      ]
    },
    {
      "cell_type": "code",
      "metadata": {
        "id": "BRCIpl-32X_o",
        "colab_type": "code",
        "outputId": "71b4518e-697b-4cbd-b969-55a58cdd2b52",
        "colab": {
          "base_uri": "https://localhost:8080/",
          "height": 34
        }
      },
      "source": [
        "fp"
      ],
      "execution_count": 0,
      "outputs": [
        {
          "output_type": "execute_result",
          "data": {
            "text/plain": [
              "10"
            ]
          },
          "metadata": {
            "tags": []
          },
          "execution_count": 66
        }
      ]
    },
    {
      "cell_type": "code",
      "metadata": {
        "id": "sP-Pu-tHuj7v",
        "colab_type": "code",
        "outputId": "1c61a1c8-f266-40e5-d2fd-581d587a548f",
        "colab": {
          "base_uri": "https://localhost:8080/",
          "height": 265
        }
      },
      "source": [
        "import seaborn as sns\n",
        "\n",
        "df = pd.DataFrame(cm, index = ['Real', 'Fake'], columns= ['Pred. Real', 'Pred. Fake'])\n",
        "sns.heatmap(df, square=True, annot=True, vmin=0)\n",
        "plt.show()"
      ],
      "execution_count": 0,
      "outputs": [
        {
          "output_type": "display_data",
          "data": {
            "image/png": "[encoded data removed]",
            "text/plain": [
              "<Figure size 432x288 with 2 Axes>"
            ]
          },
          "metadata": {
            "tags": [],
            "needs_background": "light"
          }
        }
      ]
    },
    {
      "cell_type": "markdown",
      "metadata": {
        "id": "08cVKGdONMah",
        "colab_type": "text"
      },
      "source": [
        "## Article Headline/Text"
      ]
    },
    {
      "cell_type": "code",
      "metadata": {
        "id": "apuBEzbgNQ0K",
        "colab_type": "code",
        "colab": {}
      },
      "source": [
        "# Probably don't even need this -- Danny\n",
        "! pip install html2text\n",
        "import html2text"
      ],
      "execution_count": 0,
      "outputs": []
    },
    {
      "cell_type": "code",
      "metadata": {
        "id": "v4F_pVHFPwKl",
        "colab_type": "code",
        "colab": {}
      },
      "source": [
        "def get_tags_as_string(html, tag, limit=None):\n",
        "    page = bs4.BeautifulSoup(html, 'lxml')\n",
        "    tags = page.find_all(name=tag)\n",
        "    tags_strs = [tag.getText() for tag in tags]\n",
        "    return '\\n\\n'.join(tags_strs[:limit])"
      ],
      "execution_count": 0,
      "outputs": []
    },
    {
      "cell_type": "code",
      "metadata": {
        "id": "XfzBXY1mNUtk",
        "colab_type": "code",
        "colab": {}
      },
      "source": [
        "h = html2text.HTML2Text()\n",
        "h.ignore_links = True\n",
        "response = requests.get('https://www.nbcnews.com/politics/congress/senate-passes-8-3-billion-emergency-bill-combat-coronavirus-n1150521', timeout=10)\n",
        "print(get_tags_as_string(response.text, 'h1'))\n",
        "print(get_tags_as_string(response.text, 'p'))"
      ],
      "execution_count": 0,
      "outputs": []
    },
    {
      "cell_type": "code",
      "metadata": {
        "id": "A-3T0_WlQIXB",
        "colab_type": "code",
        "colab": {}
      },
      "source": [
        "def get_header(url_str):\n",
        "  if 'http://' in url_str:\n",
        "    response = requests.get(url_str, timeout=10)\n",
        "  else:\n",
        "     response = requests.get('http://'+ url_str, timeout=10)\n",
        "  return get_tags_as_string(response.text, 'h1')\n",
        "def get_body(url_str):\n",
        "  if 'http://' in url_str:\n",
        "    response = requests.get(url_str, timeout=10)\n",
        "  else:\n",
        "     response = requests.get('http://'+ url_str, timeout=10)\n",
        "  return get_tags_as_string(response.text, 'p')"
      ],
      "execution_count": 0,
      "outputs": []
    },
    {
      "cell_type": "code",
      "metadata": {
        "id": "aQ-iSOzbOePX",
        "colab_type": "code",
        "colab": {}
      },
      "source": [
        "from requests.exceptions import ConnectionError, ReadTimeout, TooManyRedirects\n",
        "from urllib3.exceptions import NewConnectionError, MaxRetryError\n",
        "headers = ['']*len(full_df['url'])\n",
        "bodies = ['']*len(full_df['url'])\n",
        "full_df['header'] = headers\n",
        "full_df['body'] = bodies\n"
      ],
      "execution_count": 0,
      "outputs": []
    },
    {
      "cell_type": "code",
      "metadata": {
        "id": "PB_ECAQsfKnb",
        "colab_type": "code",
        "colab": {}
      },
      "source": [
        "for i in range(len(full_df['url'])):\n",
        "  try:\n",
        "    full_df['header'][i] = get_header(str(full_df['url'][i]))\n",
        "    full_df['body'][i] = get_body(str(full_df['url'][i]))\n",
        "  except (NewConnectionError, MaxRetryError, ConnectionError, ReadTimeout, TooManyRedirects):\n",
        "    pass"
      ],
      "execution_count": 0,
      "outputs": []
    },
    {
      "cell_type": "markdown",
      "metadata": {
        "id": "66G4GAdKMffr",
        "colab_type": "text"
      },
      "source": [
        "## Articly Body Sentiment Analysis - Empath (Parker)"
      ]
    },
    {
      "cell_type": "code",
      "metadata": {
        "id": "oFxRbdPbMfG6",
        "colab_type": "code",
        "colab": {}
      },
      "source": [
        "lexicon = Empath()\n",
        "example = full_df['body'][2]\n",
        "example = re.sub('\\n|\\r|\\t',' ',example)\n",
        "example_dict = lexicon.analyze(example, normalize=True)\n",
        "col_names = []\n",
        "for key in example_dict:\n",
        "    col_names.append(key)\n",
        "blank_dict = {}\n",
        "for name in col_names:\n",
        "    blank_dict[name] = 0.0\n",
        "def create_sent_dict(body):\n",
        "    x = re.sub('\\n|\\r|\\t',' ',str(body))\n",
        "    d = lexicon.analyze(x, normalize=True)\n",
        "    if not bool(d):\n",
        "        return blank_dict\n",
        "    return d\n",
        "sentiment_df = pd.DataFrame(columns = col_names)\n",
        "# now we just need to merge sentiment_df and full_df for more features"
      ],
      "execution_count": 0,
      "outputs": []
    },
    {
      "cell_type": "markdown",
      "metadata": {
        "id": "Tevu55xcMl7f",
        "colab_type": "text"
      },
      "source": [
        "## Next Steps"
      ]
    },
    {
      "cell_type": "code",
      "metadata": {
        "id": "lwwpwuKrhp4J",
        "colab_type": "code",
        "colab": {}
      },
      "source": [
        "#full_df['header'] = headers\n",
        "#full_df['body'] = bodies"
      ],
      "execution_count": 0,
      "outputs": []
    },
    {
      "cell_type": "code",
      "metadata": {
        "id": "CIjto1pKcOrJ",
        "colab_type": "code",
        "colab": {}
      },
      "source": [
        "# why do we have one more header than we have rows in full_df?"
      ],
      "execution_count": 0,
      "outputs": []
    },
    {
      "cell_type": "markdown",
      "metadata": {
        "id": "SaZj68qWAabB",
        "colab_type": "text"
      },
      "source": [
        "TODO:\n",
        "1. Empath (for sentiment analysis) (Parker)\n",
        "2. Header/Body agreement (Parker)\n",
        "3. Dowload CSV, look at it in R (Romney)\n",
        "4. Chrome Extension (Danny)\n"
      ]
    },
    {
      "cell_type": "code",
      "metadata": {
        "id": "RfS3xS6-DQ0V",
        "colab_type": "code",
        "colab": {}
      },
      "source": [
        "headers[len(headers)-2]"
      ],
      "execution_count": 0,
      "outputs": []
    },
    {
      "cell_type": "code",
      "metadata": {
        "id": "5Okei5PgczyS",
        "colab_type": "code",
        "colab": {}
      },
      "source": [
        "https://www.kaggle.com/cast42/lightgbm-model-explained-by-shap\n",
        "face detection notebook from last semester"
      ],
      "execution_count": 0,
      "outputs": []
    }
  ]
}